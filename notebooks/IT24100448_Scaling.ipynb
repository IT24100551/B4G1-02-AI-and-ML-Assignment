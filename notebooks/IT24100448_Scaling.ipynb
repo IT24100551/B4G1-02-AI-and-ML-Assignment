import pandas as pd
import numpy as np
import matplotlib.pyplot as plt
import seaborn as sns
from sklearn.preprocessing import StandardScaler, MinMaxScaler

df = pd.read_csv("winequality-red.csv")

scaler = MinMaxScaler()
df_scaled = df.copy()
# Exclude 'quality' and 'quality_cat' columns from scaling
columns_to_scale = df.columns.difference(['quality', 'quality_cat'])
df_scaled[columns_to_scale] = scaler.fit_transform(df[columns_to_scale])

display(df_scaled.head())

# Plotting the distribution before scaling
df['alcohol'].hist(bins=30, figsize=(6,4))
plt.title("Alcohol Distribution Before Scaling")
plt.show()

# Plotting the distribution after scaling
df_scaled['alcohol'].hist(bins=30, figsize=(6,4))
plt.title("Alcohol Distribution after Scaling")
plt.show()
